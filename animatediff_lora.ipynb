{
  "nbformat": 4,
  "nbformat_minor": 0,
  "metadata": {
    "colab": {
      "provenance": [],
      "gpuType": "T4",
      "authorship_tag": "ABX9TyMGz3cTMZr3Nz9JgCqbI7zo",
      "include_colab_link": true
    },
    "kernelspec": {
      "name": "python3",
      "display_name": "Python 3"
    },
    "language_info": {
      "name": "python"
    },
    "accelerator": "GPU",
    "widgets": {
      "application/vnd.jupyter.widget-state+json": {
        "5974fdc1fe16427083235c7c1a26ffd4": {
          "model_module": "@jupyter-widgets/controls",
          "model_name": "TextModel",
          "model_module_version": "1.5.0",
          "state": {
            "_dom_classes": [],
            "_model_module": "@jupyter-widgets/controls",
            "_model_module_version": "1.5.0",
            "_model_name": "TextModel",
            "_view_count": null,
            "_view_module": "@jupyter-widgets/controls",
            "_view_module_version": "1.5.0",
            "_view_name": "TextView",
            "continuous_update": true,
            "description": "Edit prompt",
            "description_tooltip": null,
            "disabled": false,
            "layout": "IPY_MODEL_6b344cde3b184fc995cbec52334d06dd",
            "placeholder": "​",
            "style": "IPY_MODEL_bff3370802c64e35bda4579d9450bc0a",
            "value": "kekokelev2, (th3r0ck takes a refreshing sip of Coca-Cola from a classic glass bottle, muscular, serious look on the face as he enjoys the fizzy drink), simple background, product focus, english text, beverage, enjoyment, high quality, Best quality, ultra high res, coca cola"
          }
        },
        "6b344cde3b184fc995cbec52334d06dd": {
          "model_module": "@jupyter-widgets/base",
          "model_name": "LayoutModel",
          "model_module_version": "1.2.0",
          "state": {
            "_model_module": "@jupyter-widgets/base",
            "_model_module_version": "1.2.0",
            "_model_name": "LayoutModel",
            "_view_count": null,
            "_view_module": "@jupyter-widgets/base",
            "_view_module_version": "1.2.0",
            "_view_name": "LayoutView",
            "align_content": null,
            "align_items": null,
            "align_self": null,
            "border": null,
            "bottom": null,
            "display": null,
            "flex": null,
            "flex_flow": null,
            "grid_area": null,
            "grid_auto_columns": null,
            "grid_auto_flow": null,
            "grid_auto_rows": null,
            "grid_column": null,
            "grid_gap": null,
            "grid_row": null,
            "grid_template_areas": null,
            "grid_template_columns": null,
            "grid_template_rows": null,
            "height": null,
            "justify_content": null,
            "justify_items": null,
            "left": null,
            "margin": null,
            "max_height": null,
            "max_width": null,
            "min_height": null,
            "min_width": null,
            "object_fit": null,
            "object_position": null,
            "order": null,
            "overflow": null,
            "overflow_x": null,
            "overflow_y": null,
            "padding": null,
            "right": null,
            "top": null,
            "visibility": null,
            "width": "2000px"
          }
        },
        "bff3370802c64e35bda4579d9450bc0a": {
          "model_module": "@jupyter-widgets/controls",
          "model_name": "DescriptionStyleModel",
          "model_module_version": "1.5.0",
          "state": {
            "_model_module": "@jupyter-widgets/controls",
            "_model_module_version": "1.5.0",
            "_model_name": "DescriptionStyleModel",
            "_view_count": null,
            "_view_module": "@jupyter-widgets/base",
            "_view_module_version": "1.2.0",
            "_view_name": "StyleView",
            "description_width": ""
          }
        },
        "3cb9ad86279f4794a48af2263e5646af": {
          "model_module": "@jupyter-widgets/controls",
          "model_name": "HBoxModel",
          "model_module_version": "1.5.0",
          "state": {
            "_dom_classes": [],
            "_model_module": "@jupyter-widgets/controls",
            "_model_module_version": "1.5.0",
            "_model_name": "HBoxModel",
            "_view_count": null,
            "_view_module": "@jupyter-widgets/controls",
            "_view_module_version": "1.5.0",
            "_view_name": "HBoxView",
            "box_style": "",
            "children": [
              "IPY_MODEL_44c248b14307454d85701aeddaa678f4",
              "IPY_MODEL_73cc3ada7b2f4bf89bf0323fe65feb74",
              "IPY_MODEL_75b2896900f045d1ba575e86337d30e1"
            ],
            "layout": "IPY_MODEL_a2839698cb974aceb4770ff8bf198546"
          }
        },
        "44c248b14307454d85701aeddaa678f4": {
          "model_module": "@jupyter-widgets/controls",
          "model_name": "HTMLModel",
          "model_module_version": "1.5.0",
          "state": {
            "_dom_classes": [],
            "_model_module": "@jupyter-widgets/controls",
            "_model_module_version": "1.5.0",
            "_model_name": "HTMLModel",
            "_view_count": null,
            "_view_module": "@jupyter-widgets/controls",
            "_view_module_version": "1.5.0",
            "_view_name": "HTMLView",
            "description": "",
            "description_tooltip": null,
            "layout": "IPY_MODEL_7c3bd8c763c245b4ab6c5e28fbc7cec8",
            "placeholder": "​",
            "style": "IPY_MODEL_6625ca8310174058ab18250c6de29885",
            "value": "Loading pipeline components...: 100%"
          }
        },
        "73cc3ada7b2f4bf89bf0323fe65feb74": {
          "model_module": "@jupyter-widgets/controls",
          "model_name": "FloatProgressModel",
          "model_module_version": "1.5.0",
          "state": {
            "_dom_classes": [],
            "_model_module": "@jupyter-widgets/controls",
            "_model_module_version": "1.5.0",
            "_model_name": "FloatProgressModel",
            "_view_count": null,
            "_view_module": "@jupyter-widgets/controls",
            "_view_module_version": "1.5.0",
            "_view_name": "ProgressView",
            "bar_style": "success",
            "description": "",
            "description_tooltip": null,
            "layout": "IPY_MODEL_c8cf141195ce4671baee21aa612080ea",
            "max": 6,
            "min": 0,
            "orientation": "horizontal",
            "style": "IPY_MODEL_acc14889be45435288aac1c8cb24a0e5",
            "value": 6
          }
        },
        "75b2896900f045d1ba575e86337d30e1": {
          "model_module": "@jupyter-widgets/controls",
          "model_name": "HTMLModel",
          "model_module_version": "1.5.0",
          "state": {
            "_dom_classes": [],
            "_model_module": "@jupyter-widgets/controls",
            "_model_module_version": "1.5.0",
            "_model_name": "HTMLModel",
            "_view_count": null,
            "_view_module": "@jupyter-widgets/controls",
            "_view_module_version": "1.5.0",
            "_view_name": "HTMLView",
            "description": "",
            "description_tooltip": null,
            "layout": "IPY_MODEL_6147294472784ca3866418ab26033423",
            "placeholder": "​",
            "style": "IPY_MODEL_797b488738c241148df3811967f9b3a0",
            "value": " 6/6 [00:10&lt;00:00,  1.80s/it]"
          }
        },
        "a2839698cb974aceb4770ff8bf198546": {
          "model_module": "@jupyter-widgets/base",
          "model_name": "LayoutModel",
          "model_module_version": "1.2.0",
          "state": {
            "_model_module": "@jupyter-widgets/base",
            "_model_module_version": "1.2.0",
            "_model_name": "LayoutModel",
            "_view_count": null,
            "_view_module": "@jupyter-widgets/base",
            "_view_module_version": "1.2.0",
            "_view_name": "LayoutView",
            "align_content": null,
            "align_items": null,
            "align_self": null,
            "border": null,
            "bottom": null,
            "display": null,
            "flex": null,
            "flex_flow": null,
            "grid_area": null,
            "grid_auto_columns": null,
            "grid_auto_flow": null,
            "grid_auto_rows": null,
            "grid_column": null,
            "grid_gap": null,
            "grid_row": null,
            "grid_template_areas": null,
            "grid_template_columns": null,
            "grid_template_rows": null,
            "height": null,
            "justify_content": null,
            "justify_items": null,
            "left": null,
            "margin": null,
            "max_height": null,
            "max_width": null,
            "min_height": null,
            "min_width": null,
            "object_fit": null,
            "object_position": null,
            "order": null,
            "overflow": null,
            "overflow_x": null,
            "overflow_y": null,
            "padding": null,
            "right": null,
            "top": null,
            "visibility": null,
            "width": null
          }
        },
        "7c3bd8c763c245b4ab6c5e28fbc7cec8": {
          "model_module": "@jupyter-widgets/base",
          "model_name": "LayoutModel",
          "model_module_version": "1.2.0",
          "state": {
            "_model_module": "@jupyter-widgets/base",
            "_model_module_version": "1.2.0",
            "_model_name": "LayoutModel",
            "_view_count": null,
            "_view_module": "@jupyter-widgets/base",
            "_view_module_version": "1.2.0",
            "_view_name": "LayoutView",
            "align_content": null,
            "align_items": null,
            "align_self": null,
            "border": null,
            "bottom": null,
            "display": null,
            "flex": null,
            "flex_flow": null,
            "grid_area": null,
            "grid_auto_columns": null,
            "grid_auto_flow": null,
            "grid_auto_rows": null,
            "grid_column": null,
            "grid_gap": null,
            "grid_row": null,
            "grid_template_areas": null,
            "grid_template_columns": null,
            "grid_template_rows": null,
            "height": null,
            "justify_content": null,
            "justify_items": null,
            "left": null,
            "margin": null,
            "max_height": null,
            "max_width": null,
            "min_height": null,
            "min_width": null,
            "object_fit": null,
            "object_position": null,
            "order": null,
            "overflow": null,
            "overflow_x": null,
            "overflow_y": null,
            "padding": null,
            "right": null,
            "top": null,
            "visibility": null,
            "width": null
          }
        },
        "6625ca8310174058ab18250c6de29885": {
          "model_module": "@jupyter-widgets/controls",
          "model_name": "DescriptionStyleModel",
          "model_module_version": "1.5.0",
          "state": {
            "_model_module": "@jupyter-widgets/controls",
            "_model_module_version": "1.5.0",
            "_model_name": "DescriptionStyleModel",
            "_view_count": null,
            "_view_module": "@jupyter-widgets/base",
            "_view_module_version": "1.2.0",
            "_view_name": "StyleView",
            "description_width": ""
          }
        },
        "c8cf141195ce4671baee21aa612080ea": {
          "model_module": "@jupyter-widgets/base",
          "model_name": "LayoutModel",
          "model_module_version": "1.2.0",
          "state": {
            "_model_module": "@jupyter-widgets/base",
            "_model_module_version": "1.2.0",
            "_model_name": "LayoutModel",
            "_view_count": null,
            "_view_module": "@jupyter-widgets/base",
            "_view_module_version": "1.2.0",
            "_view_name": "LayoutView",
            "align_content": null,
            "align_items": null,
            "align_self": null,
            "border": null,
            "bottom": null,
            "display": null,
            "flex": null,
            "flex_flow": null,
            "grid_area": null,
            "grid_auto_columns": null,
            "grid_auto_flow": null,
            "grid_auto_rows": null,
            "grid_column": null,
            "grid_gap": null,
            "grid_row": null,
            "grid_template_areas": null,
            "grid_template_columns": null,
            "grid_template_rows": null,
            "height": null,
            "justify_content": null,
            "justify_items": null,
            "left": null,
            "margin": null,
            "max_height": null,
            "max_width": null,
            "min_height": null,
            "min_width": null,
            "object_fit": null,
            "object_position": null,
            "order": null,
            "overflow": null,
            "overflow_x": null,
            "overflow_y": null,
            "padding": null,
            "right": null,
            "top": null,
            "visibility": null,
            "width": null
          }
        },
        "acc14889be45435288aac1c8cb24a0e5": {
          "model_module": "@jupyter-widgets/controls",
          "model_name": "ProgressStyleModel",
          "model_module_version": "1.5.0",
          "state": {
            "_model_module": "@jupyter-widgets/controls",
            "_model_module_version": "1.5.0",
            "_model_name": "ProgressStyleModel",
            "_view_count": null,
            "_view_module": "@jupyter-widgets/base",
            "_view_module_version": "1.2.0",
            "_view_name": "StyleView",
            "bar_color": null,
            "description_width": ""
          }
        },
        "6147294472784ca3866418ab26033423": {
          "model_module": "@jupyter-widgets/base",
          "model_name": "LayoutModel",
          "model_module_version": "1.2.0",
          "state": {
            "_model_module": "@jupyter-widgets/base",
            "_model_module_version": "1.2.0",
            "_model_name": "LayoutModel",
            "_view_count": null,
            "_view_module": "@jupyter-widgets/base",
            "_view_module_version": "1.2.0",
            "_view_name": "LayoutView",
            "align_content": null,
            "align_items": null,
            "align_self": null,
            "border": null,
            "bottom": null,
            "display": null,
            "flex": null,
            "flex_flow": null,
            "grid_area": null,
            "grid_auto_columns": null,
            "grid_auto_flow": null,
            "grid_auto_rows": null,
            "grid_column": null,
            "grid_gap": null,
            "grid_row": null,
            "grid_template_areas": null,
            "grid_template_columns": null,
            "grid_template_rows": null,
            "height": null,
            "justify_content": null,
            "justify_items": null,
            "left": null,
            "margin": null,
            "max_height": null,
            "max_width": null,
            "min_height": null,
            "min_width": null,
            "object_fit": null,
            "object_position": null,
            "order": null,
            "overflow": null,
            "overflow_x": null,
            "overflow_y": null,
            "padding": null,
            "right": null,
            "top": null,
            "visibility": null,
            "width": null
          }
        },
        "797b488738c241148df3811967f9b3a0": {
          "model_module": "@jupyter-widgets/controls",
          "model_name": "DescriptionStyleModel",
          "model_module_version": "1.5.0",
          "state": {
            "_model_module": "@jupyter-widgets/controls",
            "_model_module_version": "1.5.0",
            "_model_name": "DescriptionStyleModel",
            "_view_count": null,
            "_view_module": "@jupyter-widgets/base",
            "_view_module_version": "1.2.0",
            "_view_name": "StyleView",
            "description_width": ""
          }
        },
        "0e3e08c543a24d958aa4888db9f956dd": {
          "model_module": "@jupyter-widgets/controls",
          "model_name": "HBoxModel",
          "model_module_version": "1.5.0",
          "state": {
            "_dom_classes": [],
            "_model_module": "@jupyter-widgets/controls",
            "_model_module_version": "1.5.0",
            "_model_name": "HBoxModel",
            "_view_count": null,
            "_view_module": "@jupyter-widgets/controls",
            "_view_module_version": "1.5.0",
            "_view_name": "HBoxView",
            "box_style": "",
            "children": [
              "IPY_MODEL_5688ea6a5d8c4de791e189fc30129ec2",
              "IPY_MODEL_638711a528404c8fac15c9cdf4d6d158",
              "IPY_MODEL_396e1e8bcdf94431beb0db14c92ef946"
            ],
            "layout": "IPY_MODEL_db2d7e7bd73349fa8bae0f2961b34584"
          }
        },
        "5688ea6a5d8c4de791e189fc30129ec2": {
          "model_module": "@jupyter-widgets/controls",
          "model_name": "HTMLModel",
          "model_module_version": "1.5.0",
          "state": {
            "_dom_classes": [],
            "_model_module": "@jupyter-widgets/controls",
            "_model_module_version": "1.5.0",
            "_model_name": "HTMLModel",
            "_view_count": null,
            "_view_module": "@jupyter-widgets/controls",
            "_view_module_version": "1.5.0",
            "_view_name": "HTMLView",
            "description": "",
            "description_tooltip": null,
            "layout": "IPY_MODEL_616e9b5cd82640ebbbc1777918339efc",
            "placeholder": "​",
            "style": "IPY_MODEL_a2aff93a154e43cbac9f9f31df90b9f0",
            "value": "100%"
          }
        },
        "638711a528404c8fac15c9cdf4d6d158": {
          "model_module": "@jupyter-widgets/controls",
          "model_name": "FloatProgressModel",
          "model_module_version": "1.5.0",
          "state": {
            "_dom_classes": [],
            "_model_module": "@jupyter-widgets/controls",
            "_model_module_version": "1.5.0",
            "_model_name": "FloatProgressModel",
            "_view_count": null,
            "_view_module": "@jupyter-widgets/controls",
            "_view_module_version": "1.5.0",
            "_view_name": "ProgressView",
            "bar_style": "success",
            "description": "",
            "description_tooltip": null,
            "layout": "IPY_MODEL_678ac8d1d37b4201b1bb8520494eb7c0",
            "max": 25,
            "min": 0,
            "orientation": "horizontal",
            "style": "IPY_MODEL_75e7ea3d45b04f4f9bcf16eb104ee1c1",
            "value": 25
          }
        },
        "396e1e8bcdf94431beb0db14c92ef946": {
          "model_module": "@jupyter-widgets/controls",
          "model_name": "HTMLModel",
          "model_module_version": "1.5.0",
          "state": {
            "_dom_classes": [],
            "_model_module": "@jupyter-widgets/controls",
            "_model_module_version": "1.5.0",
            "_model_name": "HTMLModel",
            "_view_count": null,
            "_view_module": "@jupyter-widgets/controls",
            "_view_module_version": "1.5.0",
            "_view_name": "HTMLView",
            "description": "",
            "description_tooltip": null,
            "layout": "IPY_MODEL_34db3031a3934f2ca9dc78eef55bc360",
            "placeholder": "​",
            "style": "IPY_MODEL_041b8ceaf3e34791af45cc4b994ce2bf",
            "value": " 25/25 [05:35&lt;00:00, 13.35s/it]"
          }
        },
        "db2d7e7bd73349fa8bae0f2961b34584": {
          "model_module": "@jupyter-widgets/base",
          "model_name": "LayoutModel",
          "model_module_version": "1.2.0",
          "state": {
            "_model_module": "@jupyter-widgets/base",
            "_model_module_version": "1.2.0",
            "_model_name": "LayoutModel",
            "_view_count": null,
            "_view_module": "@jupyter-widgets/base",
            "_view_module_version": "1.2.0",
            "_view_name": "LayoutView",
            "align_content": null,
            "align_items": null,
            "align_self": null,
            "border": null,
            "bottom": null,
            "display": null,
            "flex": null,
            "flex_flow": null,
            "grid_area": null,
            "grid_auto_columns": null,
            "grid_auto_flow": null,
            "grid_auto_rows": null,
            "grid_column": null,
            "grid_gap": null,
            "grid_row": null,
            "grid_template_areas": null,
            "grid_template_columns": null,
            "grid_template_rows": null,
            "height": null,
            "justify_content": null,
            "justify_items": null,
            "left": null,
            "margin": null,
            "max_height": null,
            "max_width": null,
            "min_height": null,
            "min_width": null,
            "object_fit": null,
            "object_position": null,
            "order": null,
            "overflow": null,
            "overflow_x": null,
            "overflow_y": null,
            "padding": null,
            "right": null,
            "top": null,
            "visibility": null,
            "width": null
          }
        },
        "616e9b5cd82640ebbbc1777918339efc": {
          "model_module": "@jupyter-widgets/base",
          "model_name": "LayoutModel",
          "model_module_version": "1.2.0",
          "state": {
            "_model_module": "@jupyter-widgets/base",
            "_model_module_version": "1.2.0",
            "_model_name": "LayoutModel",
            "_view_count": null,
            "_view_module": "@jupyter-widgets/base",
            "_view_module_version": "1.2.0",
            "_view_name": "LayoutView",
            "align_content": null,
            "align_items": null,
            "align_self": null,
            "border": null,
            "bottom": null,
            "display": null,
            "flex": null,
            "flex_flow": null,
            "grid_area": null,
            "grid_auto_columns": null,
            "grid_auto_flow": null,
            "grid_auto_rows": null,
            "grid_column": null,
            "grid_gap": null,
            "grid_row": null,
            "grid_template_areas": null,
            "grid_template_columns": null,
            "grid_template_rows": null,
            "height": null,
            "justify_content": null,
            "justify_items": null,
            "left": null,
            "margin": null,
            "max_height": null,
            "max_width": null,
            "min_height": null,
            "min_width": null,
            "object_fit": null,
            "object_position": null,
            "order": null,
            "overflow": null,
            "overflow_x": null,
            "overflow_y": null,
            "padding": null,
            "right": null,
            "top": null,
            "visibility": null,
            "width": null
          }
        },
        "a2aff93a154e43cbac9f9f31df90b9f0": {
          "model_module": "@jupyter-widgets/controls",
          "model_name": "DescriptionStyleModel",
          "model_module_version": "1.5.0",
          "state": {
            "_model_module": "@jupyter-widgets/controls",
            "_model_module_version": "1.5.0",
            "_model_name": "DescriptionStyleModel",
            "_view_count": null,
            "_view_module": "@jupyter-widgets/base",
            "_view_module_version": "1.2.0",
            "_view_name": "StyleView",
            "description_width": ""
          }
        },
        "678ac8d1d37b4201b1bb8520494eb7c0": {
          "model_module": "@jupyter-widgets/base",
          "model_name": "LayoutModel",
          "model_module_version": "1.2.0",
          "state": {
            "_model_module": "@jupyter-widgets/base",
            "_model_module_version": "1.2.0",
            "_model_name": "LayoutModel",
            "_view_count": null,
            "_view_module": "@jupyter-widgets/base",
            "_view_module_version": "1.2.0",
            "_view_name": "LayoutView",
            "align_content": null,
            "align_items": null,
            "align_self": null,
            "border": null,
            "bottom": null,
            "display": null,
            "flex": null,
            "flex_flow": null,
            "grid_area": null,
            "grid_auto_columns": null,
            "grid_auto_flow": null,
            "grid_auto_rows": null,
            "grid_column": null,
            "grid_gap": null,
            "grid_row": null,
            "grid_template_areas": null,
            "grid_template_columns": null,
            "grid_template_rows": null,
            "height": null,
            "justify_content": null,
            "justify_items": null,
            "left": null,
            "margin": null,
            "max_height": null,
            "max_width": null,
            "min_height": null,
            "min_width": null,
            "object_fit": null,
            "object_position": null,
            "order": null,
            "overflow": null,
            "overflow_x": null,
            "overflow_y": null,
            "padding": null,
            "right": null,
            "top": null,
            "visibility": null,
            "width": null
          }
        },
        "75e7ea3d45b04f4f9bcf16eb104ee1c1": {
          "model_module": "@jupyter-widgets/controls",
          "model_name": "ProgressStyleModel",
          "model_module_version": "1.5.0",
          "state": {
            "_model_module": "@jupyter-widgets/controls",
            "_model_module_version": "1.5.0",
            "_model_name": "ProgressStyleModel",
            "_view_count": null,
            "_view_module": "@jupyter-widgets/base",
            "_view_module_version": "1.2.0",
            "_view_name": "StyleView",
            "bar_color": null,
            "description_width": ""
          }
        },
        "34db3031a3934f2ca9dc78eef55bc360": {
          "model_module": "@jupyter-widgets/base",
          "model_name": "LayoutModel",
          "model_module_version": "1.2.0",
          "state": {
            "_model_module": "@jupyter-widgets/base",
            "_model_module_version": "1.2.0",
            "_model_name": "LayoutModel",
            "_view_count": null,
            "_view_module": "@jupyter-widgets/base",
            "_view_module_version": "1.2.0",
            "_view_name": "LayoutView",
            "align_content": null,
            "align_items": null,
            "align_self": null,
            "border": null,
            "bottom": null,
            "display": null,
            "flex": null,
            "flex_flow": null,
            "grid_area": null,
            "grid_auto_columns": null,
            "grid_auto_flow": null,
            "grid_auto_rows": null,
            "grid_column": null,
            "grid_gap": null,
            "grid_row": null,
            "grid_template_areas": null,
            "grid_template_columns": null,
            "grid_template_rows": null,
            "height": null,
            "justify_content": null,
            "justify_items": null,
            "left": null,
            "margin": null,
            "max_height": null,
            "max_width": null,
            "min_height": null,
            "min_width": null,
            "object_fit": null,
            "object_position": null,
            "order": null,
            "overflow": null,
            "overflow_x": null,
            "overflow_y": null,
            "padding": null,
            "right": null,
            "top": null,
            "visibility": null,
            "width": null
          }
        },
        "041b8ceaf3e34791af45cc4b994ce2bf": {
          "model_module": "@jupyter-widgets/controls",
          "model_name": "DescriptionStyleModel",
          "model_module_version": "1.5.0",
          "state": {
            "_model_module": "@jupyter-widgets/controls",
            "_model_module_version": "1.5.0",
            "_model_name": "DescriptionStyleModel",
            "_view_count": null,
            "_view_module": "@jupyter-widgets/base",
            "_view_module_version": "1.2.0",
            "_view_name": "StyleView",
            "description_width": ""
          }
        }
      }
    }
  },
  "cells": [
    {
      "cell_type": "markdown",
      "metadata": {
        "id": "view-in-github",
        "colab_type": "text"
      },
      "source": [
        "<a href=\"https://colab.research.google.com/github/abhijitpal1247/animatediff_exp/blob/main/animatediff_lora.ipynb\" target=\"_parent\"><img src=\"https://colab.research.google.com/assets/colab-badge.svg\" alt=\"Open In Colab\"/></a>"
      ]
    },
    {
      "cell_type": "code",
      "execution_count": null,
      "metadata": {
        "id": "KHXBoM_9ifK4"
      },
      "outputs": [],
      "source": [
        "%%bash\n",
        "pip install peft\n",
        "pip install --upgrade transformers\n",
        "pip install diffusers\n",
        "pip install python-dotenv\n",
        "pip install openai==0.28\n",
        "mkdir cola_weights\n",
        "wget https://civitai.com/api/download/models/267807 -O cola_weights/pytorch_lora.safetensors"
      ]
    },
    {
      "cell_type": "code",
      "source": [
        "# @title Enter product details { display-mode: \"form\" }\n",
        "\n",
        "from dotenv import load_dotenv\n",
        "\n",
        "load_dotenv()\n",
        "\n",
        "company_name = 'coca-cola' # @param {type:\"string\"}\n",
        "product = 'cola-bottle' # @param {type:\"string\"}"
      ],
      "metadata": {
        "id": "HFCPnaWolBlY"
      },
      "execution_count": null,
      "outputs": []
    },
    {
      "cell_type": "code",
      "source": [
        "import os\n",
        "import time\n",
        "import random\n",
        "import openai\n",
        "\n",
        "openai.api_key = os.getenv(\"OPENAI_API_KEY\")\n",
        "\n",
        "# define a retry decorator\n",
        "def retry_with_exponential_backoff(\n",
        "    func,\n",
        "    initial_delay: float = 2,\n",
        "    exponential_base: float = 2,\n",
        "    jitter: bool = True,\n",
        "    max_retries: int = 30,\n",
        "    errors: tuple = (openai.error.RateLimitError, openai.error.APIError, openai.error.Timeout, openai.error.ServiceUnavailableError),\n",
        "):\n",
        "    \"\"\"Retry a function with exponential backoff.\"\"\"\n",
        "\n",
        "    def wrapper(*args, **kwargs):\n",
        "        # Initialize variables\n",
        "        num_retries = 0\n",
        "        delay = initial_delay\n",
        "\n",
        "        # Loop until a successful response or max_retries is hit or an exception is raised\n",
        "        while True:\n",
        "            try:\n",
        "                return func(*args, **kwargs)\n",
        "\n",
        "            # Retry on specific errors\n",
        "            except errors as e:\n",
        "                print(str(e))\n",
        "                # Increment retries\n",
        "                num_retries += 1\n",
        "\n",
        "                # Check if max retries has been reached\n",
        "                if num_retries > max_retries:\n",
        "                    raise Exception(\n",
        "                        f\"Maximum number of retries ({max_retries}) exceeded.\"\n",
        "                    )\n",
        "\n",
        "                # Increment the delay\n",
        "                delay *= exponential_base * (1 + jitter * random.random())\n",
        "\n",
        "                # Sleep for the delay\n",
        "                time.sleep(delay)\n",
        "\n",
        "            # Raise exceptions for any errors not specified\n",
        "            except Exception as e:\n",
        "                raise e\n",
        "\n",
        "    return wrapper\n",
        "\n",
        "@retry_with_exponential_backoff\n",
        "def completions_with_backoff(**kwargs):\n",
        "    return openai.ChatCompletion.create(**kwargs)"
      ],
      "metadata": {
        "id": "h_xTDlvPlBiC"
      },
      "execution_count": null,
      "outputs": []
    },
    {
      "cell_type": "code",
      "source": [
        "def get_openai_completion(model, max_tokens, temperature, n, messages,\n",
        "                          return_completions_only=False):\n",
        "    response= completions_with_backoff(model=model, max_tokens=max_tokens,\n",
        "                                       temperature=temperature, n=n,\n",
        "                                       messages=messages)\n",
        "\n",
        "    if return_completions_only:\n",
        "        continuations=[]\n",
        "        for res in response[\"choices\"]:\n",
        "            if \"message\" in res:\n",
        "                continuations.append(res[\"message\"][\"content\"])\n",
        "            else:\n",
        "                continuations.append(res[\"text\"])\n",
        "        return continuations\n",
        "    return response"
      ],
      "metadata": {
        "id": "nfgKMQX2lsis"
      },
      "execution_count": null,
      "outputs": []
    },
    {
      "cell_type": "code",
      "source": [
        "system_message = \"You are a storyboard writer. You write the story board descriptions for ads \"\n",
        "prompt = f\"\"\"provide a storyboard for ad for the product {product} of this company: {company_name}\n",
        "The ad will be a gif based video so our timeframe is very small.\n",
        "Instructions:\n",
        "1. Be as descriptive as possible\n",
        "2. Describe the background, the relative-product placement and every other minute detail\n",
        "3. Describe the entire set of actions that takes place in the ad video\n",
        "4. Keep the storyboard concise, only one line and is of max 40 words describing the entire ad\n",
        "5. Do not provide frame wise or scene wise description, provide overall idea or concept of ad\n",
        "6. It should just have small set of actions, so that it fits within the timeframe\n",
        "9. You do not have any type of overlay available so you can not display logo\n",
        "10. You cannot display any tagline or any text\n",
        "11. There is no audio associated with the video\n",
        "12. You have a camera which can take a fixed aspect ratio video\n",
        "\n",
        "Storyboard:\"\"\""
      ],
      "metadata": {
        "id": "VZpZasYNlsfV"
      },
      "execution_count": null,
      "outputs": []
    },
    {
      "cell_type": "code",
      "source": [
        "messages = [{\"role\": \"system\", \"content\": system_message}]\n",
        "messages.append({\"role\": \"user\", \"content\": prompt})\n",
        "completions = get_openai_completion(model=\"gpt-3.5-turbo\",\n",
        "                                    max_tokens=1000, n=1,\n",
        "                                    temperature=1.0, messages=messages,\n",
        "                                    return_completions_only=True)\n",
        "script = completions[0]"
      ],
      "metadata": {
        "id": "JfulCgx9lsdf"
      },
      "execution_count": null,
      "outputs": []
    },
    {
      "cell_type": "code",
      "source": [
        "script"
      ],
      "metadata": {
        "colab": {
          "base_uri": "https://localhost:8080/",
          "height": 53
        },
        "id": "Tuw2do3ilBf3",
        "outputId": "4a896fa3-3337-4717-bcef-c2822805dbdf"
      },
      "execution_count": null,
      "outputs": [
        {
          "output_type": "execute_result",
          "data": {
            "text/plain": [
              "'A person takes a refreshing sip of Coca-Cola from a cola bottle, their face lighting up with delight as they enjoy the fizzy drink.'"
            ],
            "application/vnd.google.colaboratory.intrinsic+json": {
              "type": "string"
            }
          },
          "metadata": {},
          "execution_count": 6
        }
      ]
    },
    {
      "cell_type": "code",
      "source": [
        "system_message = \"You are a prompt writter for text to video model. Given description you will write a prompt that will generate great video\"\n",
        "prompt = f\"\"\"provide the prompt for the following video description: {script}\n",
        "Instructions:\n",
        "The focus of the prompt should be on : {product} of {company_name} company\n",
        "Like shown in the example, describe the {product} and the relative action that is taking place in the video\n",
        "keep the background description simple\n",
        "keep the prompt size small like 30-40 word length\n",
        "Follow the below examples and be creative\n",
        "Mention the company name along with the product\n",
        "\n",
        "Example:\n",
        "1. (a person drinking from a bottle of coca cola, sitting on top of ice covered ground and water splashing with a red background and a red background), red background, simple background, english text,Best quality,masterpiece,ultra high res,\n",
        "2. (a bottle of coca cola is being thrown into the air with ice cubes on the bottom of it), no humans, simple background, white background, still life, english text, coca-cola, bottle, soda, food focus, realistic,Best quality,masterpiece,ultra high res\n",
        "3. (a coca cola bottle with a red circle around it and daisies in the background with a blue sky and white daisies), no humans, flower, white flower, still life, bottle, water, english text,\n",
        "4. (a person holding coca cola can) intricate playground atmosphere, atmospheric lighting, 4k UHD, hyper detailed, vibrant colors playground background, epic composition, octane render, sharp focus, high resolution isometric, in the center shot,\n",
        "5. (a big bottle in the playground, inside the bottle there's a coca cola can) intricate playground atmosphere, atmospheric oliva lighting, on the table, 4k UHD, hyper detailed, vibrant colors playground background, epic composition, octane render, sharp focus, high resolution isometric, in the center shot\n",
        "6. (a poster of a coca cola advertisement with six bottles of coke on it and a bag of soda on the side),no humans,english text,still life,artist name,border,Best quality,masterpiece,ultra high res,\n",
        "7. (a rabbit sitting next to a coca cola bottle and jumping in a field of grass and flowers with a sun shining behind it), no humans, rabbit, coca-cola, animal focus, animal, plant, outdoors, signature, bottle, nature, grass, tree,Best quality,masterpiece,ultra high res\n",
        "8. (A person taking a Coca-Cola bottle from a fridge), beautiful interior, high quality, 8k, warm light\n",
        "9. (A rabbit holding a coca cola bottle in its paws and sipping it), in a field of grass and weeds with the sun shining behind it,no humans,bottle,blurry,animal,animal focus,rabbit,outdoors,grass,blurry background,coca-cola,plant,realistic,mushroom,whiskers, Best quality,masterpiece,ultra high res\n",
        "\n",
        "prompt:\"\"\"\n",
        "messages = [{\"role\": \"system\", \"content\": system_message}]\n",
        "messages.append({\"role\": \"user\", \"content\": prompt})\n",
        "completions = get_openai_completion(model=\"gpt-3.5-turbo\",\n",
        "                                  max_tokens=1000, n=1,\n",
        "                                  temperature=1.0, messages=messages,\n",
        "                                  return_completions_only=True)\n",
        "prompt = completions[0]"
      ],
      "metadata": {
        "id": "GylQQEBtlBdy"
      },
      "execution_count": null,
      "outputs": []
    },
    {
      "cell_type": "code",
      "source": [
        "prompt"
      ],
      "metadata": {
        "colab": {
          "base_uri": "https://localhost:8080/",
          "height": 70
        },
        "id": "nhxX4JUV4Kx7",
        "outputId": "03c86349-fa0d-4b48-abe3-142f4a9d1ee3"
      },
      "execution_count": null,
      "outputs": [
        {
          "output_type": "execute_result",
          "data": {
            "text/plain": [
              "'(a person takes a refreshing sip of Coca-Cola from a classic glass bottle, their face lighting up with delight as they enjoy the fizzy drink), simple background, product focus, english text, beverage, enjoyment, high quality, Best quality, ultra high res.'"
            ],
            "application/vnd.google.colaboratory.intrinsic+json": {
              "type": "string"
            }
          },
          "metadata": {},
          "execution_count": 8
        }
      ]
    },
    {
      "cell_type": "code",
      "source": [
        "import ipywidgets as widgets\n",
        "from ipywidgets import interact, interactive, fixed\n",
        "from IPython.display import display\n",
        "\n",
        "text_input = widgets.Text(\n",
        "    value=prompt,\n",
        "    description='Edit prompt',\n",
        "    disabled=False,\n",
        "    layout = widgets.Layout(width='2000px')\n",
        ")\n",
        "\n",
        "display(text_input)"
      ],
      "metadata": {
        "colab": {
          "base_uri": "https://localhost:8080/",
          "height": 69,
          "referenced_widgets": [
            "5974fdc1fe16427083235c7c1a26ffd4",
            "6b344cde3b184fc995cbec52334d06dd",
            "bff3370802c64e35bda4579d9450bc0a"
          ]
        },
        "id": "pypB3ab13xck",
        "outputId": "df244268-9a55-41c1-eaaf-24de16a0f811"
      },
      "execution_count": null,
      "outputs": [
        {
          "output_type": "display_data",
          "data": {
            "text/plain": [
              "Text(value='kekokelev2, (th3r0ck takes a refreshing sip of Coca-Cola from a classic glass bottle, muscular, se…"
            ],
            "application/vnd.jupyter.widget-view+json": {
              "version_major": 2,
              "version_minor": 0,
              "model_id": "5974fdc1fe16427083235c7c1a26ffd4"
            }
          },
          "metadata": {}
        }
      ]
    },
    {
      "cell_type": "code",
      "source": [
        "import torch\n",
        "from diffusers import AnimateDiffPipeline, LCMScheduler, MotionAdapter\n",
        "from diffusers.utils import export_to_gif\n",
        "\n",
        "adapter = MotionAdapter.from_pretrained(\"wangfuyun/AnimateLCM\")\n",
        "pipe = AnimateDiffPipeline.from_pretrained(\"runwayml/stable-diffusion-v1-5\", motion_adapter=adapter, variant=\"fp16\")\n",
        "pipe.scheduler = LCMScheduler.from_config(pipe.scheduler.config, beta_schedule=\"linear\")\n",
        "\n",
        "pipe.load_lora_weights(\"cola_weights/\", adapter_name=\"cola-lora\")\n",
        "pipe.load_lora_weights(\"wangfuyun/AnimateLCM\", weight_name=\"AnimateLCM_sd15_t2v_lora.safetensors\", adapter_name=\"lcm-lora\")\n",
        "pipe.load_lora_weights(\"guoyww/animatediff-motion-lora-tilt-up\", adapter_name=\"tilt-up\")\n",
        "# pipe.load_lora_weights(\n",
        "#     \"guoyww/animatediff-motion-lora-zoom-out\", adapter_name=\"zoom-out\",\n",
        "# )\n",
        "# pipe.load_lora_weights(\n",
        "#     \"guoyww/animatediff-motion-lora-pan-left\", adapter_name=\"pan-left\",\n",
        "# )\n",
        "\n",
        "pipe.set_adapters([\"lcm-lora\", \"tilt-up\", \"cola-lora\"],\n",
        " [1.0, 0.8, 0.8])\n",
        "pipe.enable_vae_slicing()\n",
        "pipe.enable_model_cpu_offload()"
      ],
      "metadata": {
        "colab": {
          "base_uri": "https://localhost:8080/",
          "height": 190,
          "referenced_widgets": [
            "3cb9ad86279f4794a48af2263e5646af",
            "44c248b14307454d85701aeddaa678f4",
            "73cc3ada7b2f4bf89bf0323fe65feb74",
            "75b2896900f045d1ba575e86337d30e1",
            "a2839698cb974aceb4770ff8bf198546",
            "7c3bd8c763c245b4ab6c5e28fbc7cec8",
            "6625ca8310174058ab18250c6de29885",
            "c8cf141195ce4671baee21aa612080ea",
            "acc14889be45435288aac1c8cb24a0e5",
            "6147294472784ca3866418ab26033423",
            "797b488738c241148df3811967f9b3a0"
          ]
        },
        "id": "NV-Ra6Cqlz9U",
        "outputId": "e4260b99-c26a-4fb4-9b91-33a6105f2263"
      },
      "execution_count": null,
      "outputs": [
        {
          "output_type": "stream",
          "name": "stderr",
          "text": [
            "/usr/local/lib/python3.10/dist-packages/huggingface_hub/utils/_token.py:89: UserWarning: \n",
            "The secret `HF_TOKEN` does not exist in your Colab secrets.\n",
            "To authenticate with the Hugging Face Hub, create a token in your settings tab (https://huggingface.co/settings/tokens), set it as secret in your Google Colab and restart your session.\n",
            "You will be able to reuse this secret in all of your notebooks.\n",
            "Please note that authentication is recommended but still optional to access public models or datasets.\n",
            "  warnings.warn(\n"
          ]
        },
        {
          "output_type": "display_data",
          "data": {
            "text/plain": [
              "Loading pipeline components...:   0%|          | 0/6 [00:00<?, ?it/s]"
            ],
            "application/vnd.jupyter.widget-view+json": {
              "version_major": 2,
              "version_minor": 0,
              "model_id": "3cb9ad86279f4794a48af2263e5646af"
            }
          },
          "metadata": {}
        },
        {
          "output_type": "stream",
          "name": "stderr",
          "text": [
            "The config attributes {'center_input_sample': False, 'flip_sin_to_cos': True, 'freq_shift': 0, 'attention_head_dim': 8} were passed to UNetMotionModel, but are not expected and will be ignored. Please verify your config.json configuration file.\n"
          ]
        }
      ]
    },
    {
      "cell_type": "code",
      "source": [
        "output = pipe(\n",
        "    prompt=text_input.value,\n",
        "    negative_prompt=\"bad quality, worse quality, low resolution, ng_deepnegative_v1_75t,(worst quality:2),(low quality:2),(normal quality:2),lowres,bad anatomy,bad hands,normal quality,((monochrome)),((grayscale)),watermark,(negative_hand-neg:0.6),(NegfeetV2:0.5),(EasyNegativeV2:0.6),extra fingers,deformed hands,polydactyl:1.3\",\n",
        "    num_frames=16,\n",
        "    guidance_scale=1.5,\n",
        "    num_inference_steps=25,\n",
        "    generator=torch.Generator(\"cpu\").manual_seed(0),\n",
        ")\n",
        "frames = output.frames[0]\n",
        "export_to_gif(frames, \"animatelcm-motion-lora.gif\")"
      ],
      "metadata": {
        "colab": {
          "base_uri": "https://localhost:8080/",
          "height": 122,
          "referenced_widgets": [
            "0e3e08c543a24d958aa4888db9f956dd",
            "5688ea6a5d8c4de791e189fc30129ec2",
            "638711a528404c8fac15c9cdf4d6d158",
            "396e1e8bcdf94431beb0db14c92ef946",
            "db2d7e7bd73349fa8bae0f2961b34584",
            "616e9b5cd82640ebbbc1777918339efc",
            "a2aff93a154e43cbac9f9f31df90b9f0",
            "678ac8d1d37b4201b1bb8520494eb7c0",
            "75e7ea3d45b04f4f9bcf16eb104ee1c1",
            "34db3031a3934f2ca9dc78eef55bc360",
            "041b8ceaf3e34791af45cc4b994ce2bf"
          ]
        },
        "id": "qfXA9tNPlz6Z",
        "outputId": "3946499f-1dfc-46ee-9d31-b097c4f29baa"
      },
      "execution_count": null,
      "outputs": [
        {
          "output_type": "display_data",
          "data": {
            "text/plain": [
              "  0%|          | 0/25 [00:00<?, ?it/s]"
            ],
            "application/vnd.jupyter.widget-view+json": {
              "version_major": 2,
              "version_minor": 0,
              "model_id": "0e3e08c543a24d958aa4888db9f956dd"
            }
          },
          "metadata": {}
        },
        {
          "output_type": "stream",
          "name": "stderr",
          "text": [
            "/usr/local/lib/python3.10/dist-packages/torch/nn/modules/conv.py:456: UserWarning: Plan failed with a cudnnException: CUDNN_BACKEND_EXECUTION_PLAN_DESCRIPTOR: cudnnFinalize Descriptor Failed cudnn_status: CUDNN_STATUS_NOT_SUPPORTED (Triggered internally at ../aten/src/ATen/native/cudnn/Conv_v8.cpp:919.)\n",
            "  return F.conv2d(input, weight, bias, self.stride,\n"
          ]
        },
        {
          "output_type": "execute_result",
          "data": {
            "text/plain": [
              "'animatelcm-motion-lora.gif'"
            ],
            "application/vnd.google.colaboratory.intrinsic+json": {
              "type": "string"
            }
          },
          "metadata": {},
          "execution_count": 5
        }
      ]
    },
    {
      "cell_type": "code",
      "source": [],
      "metadata": {
        "id": "T_TggIpRrfYc"
      },
      "execution_count": null,
      "outputs": []
    }
  ]
}